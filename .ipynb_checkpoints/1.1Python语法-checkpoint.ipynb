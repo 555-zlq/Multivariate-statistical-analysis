{
 "cells": [
  {
   "cell_type": "markdown",
   "id": "ambient-confirmation",
   "metadata": {},
   "source": [
    "# Python基础\n",
    "## 缩进、注释与格式化输出"
   ]
  },
  {
   "cell_type": "code",
   "execution_count": 1,
   "id": "manual-johns",
   "metadata": {},
   "outputs": [
    {
     "name": "stdout",
     "output_type": "stream",
     "text": [
      "身高为1.2米，请支付半价费用：20.00元\n"
     ]
    }
   ],
   "source": [
    "# -*- coding: utf-8 -*-\n",
    "high = 1.2;price = 40       # 初始化定义变量\n",
    "if high > 1.3:\n",
    "    print(\"身高为{}米，请支付全票费用：{}元\".format(high, price)) \t#身高超过限制买全票\n",
    "else:\n",
    "    print(\"身高为{0}米，请支付半价费用：{1:.2f}元\".format(high, price/2)) # 身高不超限，买半票\n",
    "    "
   ]
  },
  {
   "cell_type": "markdown",
   "id": "exempt-invalid",
   "metadata": {
    "tags": []
   },
   "source": [
    "## 数据类型：数值、字符串\n",
    "* 整数(int)、浮点数(float)、复数(complex)，字符串 的赋值\n",
    "* 类型查看：type( )\n",
    "* 类型转换\n",
    "* 字符串的运算：加、数乘"
   ]
  },
  {
   "cell_type": "code",
   "execution_count": 2,
   "id": "clean-roots",
   "metadata": {},
   "outputs": [
    {
     "name": "stdout",
     "output_type": "stream",
     "text": [
      " 输出1. x = 3, 类型为：<class 'int'>\n",
      " 输出2. y = 2.67, 类型为：<class 'float'>\n",
      " 输出3. z = abc, 类型为：<class 'str'>\n"
     ]
    }
   ],
   "source": [
    "x = 3;  y = 8/3;  z = \"abc\"\n",
    "print(\" 输出1. x = {0}, 类型为：{1}\".format(x, type(x)))\n",
    "print(\" 输出2. y = {0:.2f}, 类型为：{1}\".format(y, type(y)))\n",
    "print(\" 输出3. z = {0}, 类型为：{1}\".format(z, type(z)))"
   ]
  },
  {
   "cell_type": "code",
   "execution_count": 30,
   "id": "paperback-printer",
   "metadata": {},
   "outputs": [
    {
     "name": "stdout",
     "output_type": "stream",
     "text": [
      " 输出4. int(y) = 2, 类型为：<class 'int'>\n",
      " 输出5. str(y) = 2.6666666666666665, 类型为：<class 'str'>\n"
     ]
    }
   ],
   "source": [
    "print(\" 输出4. int(y) = {0}, 类型为：{1}\".format(int(y), type(int(y))))\n",
    "print(\" 输出5. str(y) = {0}, 类型为：{1}\".format(str(y), type(str(y))))"
   ]
  },
  {
   "cell_type": "code",
   "execution_count": 32,
   "id": "earned-monitoring",
   "metadata": {},
   "outputs": [
    {
     "name": "stdout",
     "output_type": "stream",
     "text": [
      " 输出6. str(x) + z = 3abc,\t x * z = abcabcabc\n"
     ]
    }
   ],
   "source": [
    "print(\" 输出6. str(x) + z = {0},\\t x * z = {1}\".format(str(x) + z, x * z))"
   ]
  },
  {
   "cell_type": "markdown",
   "id": "pleased-interval",
   "metadata": {},
   "source": [
    "## 数据类型：列表\n",
    "### 创建、长度、索引 、切片\n"
   ]
  },
  {
   "cell_type": "code",
   "execution_count": 5,
   "id": "fitting-april",
   "metadata": {},
   "outputs": [
    {
     "name": "stdout",
     "output_type": "stream",
     "text": [
      "列表为：[1, 2, 'a', 'bcd', (3, 4)]， 其长度为：5\n",
      "列表为：[1, 2, 3, 4, 5, 6, 7]， 其长度为：7\n"
     ]
    }
   ],
   "source": [
    "L1 = [1, 2, 'a', 'bcd', (3,4)]    # 直接赋值\n",
    "L2 = list(range(1,8))\n",
    "    # range(m,n) 生成从 m 到 n-1 之间的整数，用list()将类型转为列表\n",
    "print(\"列表为：{}， 其长度为：{}\".format(L1, len(L1)))\n",
    "print(\"列表为：{}， 其长度为：{}\".format(L2, len(L2)))"
   ]
  },
  {
   "cell_type": "code",
   "execution_count": 13,
   "id": "joint-logan",
   "metadata": {},
   "outputs": [
    {
     "name": "stdout",
     "output_type": "stream",
     "text": [
      "0、初始列表为：L2 = [1, 2, 3, 4, 5, 6, 7]\n",
      "1、第1个元素为：L2[0] = 1\n",
      "2、第4个元素为：L2[3] = 4\n",
      "3、倒数第3个元素为：L2[-3] = 5\n"
     ]
    }
   ],
   "source": [
    "L2 = list(range(1,8));    i = 3\n",
    "print(\"0、初始列表为：L2 = {}\".format(L2))\n",
    "print(\"1、第1个元素为：L2[{}] = {}\".format(0,L2[0]))\n",
    "print(\"2、第{}个元素为：L2[{}] = {}\".format(i+1,i, L2[i]))\t\t# 正向引用索引序号从0开始，对应第1个元素\n",
    "print(\"3、倒数第{}个元素为：L2[{}] = {}\".format(i, -i,L2[-i]))\t\t# 反向索引从-1开始"
   ]
  },
  {
   "cell_type": "code",
   "execution_count": 18,
   "id": "productive-clothing",
   "metadata": {},
   "outputs": [
    {
     "name": "stdout",
     "output_type": "stream",
     "text": [
      "0、初始列表为：L2 = [1, 2, 3, 4, 5, 6, 7]\n",
      "1、L2[1:3]=[2, 3]\n",
      "2、L2[3::2]=[4, 6]\n",
      "3、L2[:-3]=[1, 2, 3, 4]\n"
     ]
    }
   ],
   "source": [
    "L2 = list(range(1,8));    i = 3\n",
    "print(\"0、初始列表为：L2 = {}\".format(L2))\n",
    "print(\"1、L2[1:{}]={}\".format(i,L2[1:i]))\n",
    "print(\"2、L2[{}::2]={}\".format(i,L2[i::2]))\n",
    "print(\"3、L2[:{}]={}\".format(-i,L2[:-i]))"
   ]
  },
  {
   "cell_type": "markdown",
   "id": "aggressive-roots",
   "metadata": {},
   "source": [
    "### 复制、增加、删除 、运算\n",
    "列表最好不要直接引用，最好复制，否则可能出错\n",
    "* 复制列表的方法有两种：\n",
    "    1. List2 = List1[:]\n",
    "    2. List2 = List1.copy()"
   ]
  },
  {
   "cell_type": "code",
   "execution_count": 23,
   "id": "romantic-dylan",
   "metadata": {
    "scrolled": true
   },
   "outputs": [
    {
     "name": "stdout",
     "output_type": "stream",
     "text": [
      "0、L1 = [1, 2, 3, 4],  L2 = [1, 2, 3, 4]\n",
      "1、L1 = [1, 2, 9, 4],  L2 = [1, 2, 9, 4]\n",
      "2、L1 = [1, 2, 3, 4],  L2 = [1, 2, 9, 4]\n"
     ]
    }
   ],
   "source": [
    "# 复制\n",
    "L1 = list(range(1,5));   L2 = L1;\n",
    "print(\"0、L1 = {},  L2 = {}\".format(L1, L2))\n",
    "L2[2] = 9\n",
    "print(\"1、L1 = {},  L2 = {}\".format(L1, L2))         # 等号复制，一个改变，另一个跟随改变\n",
    "L1 = list(range(1,5));   L2 = L1[:];   L2[2] = 9    # 正确复制，一个改变，不引起另一个改变\n",
    "print(\"2、L1 = {},  L2 = {}\".format(L1, L2))"
   ]
  },
  {
   "cell_type": "code",
   "execution_count": 24,
   "id": "rolled-second",
   "metadata": {},
   "outputs": [
    {
     "name": "stdout",
     "output_type": "stream",
     "text": [
      "0、L1 = [1, 2, 3, 4],  L2 = [1, 2, 3, 4]\n",
      "1、L1 = [1, 2, 9, 4],  L2 = [1, 2, 9, 4]\n",
      "2、id(L1) = 1898451519104,  id(L2) = 1898451519104\n",
      "3、L1 = [1, 2, 3, 4],  L2 = [1, 2, 9, 4]\n",
      "4、id(L1) = 1898460900544,  id(L2) = 1898456228864\n"
     ]
    }
   ],
   "source": [
    "L1 = list(range(1,5));   L2 = L1;\n",
    "print(\"0、L1 = {},  L2 = {}\".format(L1, L2))\n",
    "L2[2] = 9\n",
    "print(\"1、L1 = {},  L2 = {}\".format(L1, L2))         # 等号复制，一个改变，另一个跟随改变\n",
    "print(\"2、id(L1) = {},  id(L2) = {}\".format(id(L1), id(L2)))         # 查看地址\n",
    "L1 = list(range(1,5));   L2 = L1[:];   L2[2] = 9    # 正确复制，一个改变，不引起另一个改变\n",
    "print(\"3、L1 = {},  L2 = {}\".format(L1, L2))\n",
    "print(\"4、id(L1) = {},  id(L2) = {}\".format(id(L1), id(L2)))         # 查看地址"
   ]
  },
  {
   "cell_type": "code",
   "execution_count": 31,
   "id": "republican-abuse",
   "metadata": {},
   "outputs": [
    {
     "name": "stdout",
     "output_type": "stream",
     "text": [
      "初始列表为：L1 = [1, 2, 3, 4]\n",
      "L2.append(9) = [1, 2, 3, 4, 9],\t L3.insert(2,9) = [1, 2, 9, 3, 4]\n",
      "L4.remove(3) = [1, 2, 4],\t L5.pop() = [1, 2, 3]\n"
     ]
    }
   ],
   "source": [
    "# 增加、删除\n",
    "L1 = list(range(1,5));   L2 = L1[:];  L3 = L1[:];  L4 = L1[:];  L5 = L1[:];  \n",
    "L2.append(9)   # append() 在列表末尾添加元素\n",
    "L3.insert(2,9)   # insert() 在列表第2+1个元素前添加元素\n",
    "L4.remove(3)   # remove() 从列表删除特定元素\n",
    "L5.pop()       # pop()    从列表末尾删除元素\n",
    "print(\"初始列表为：L1 = {}\".format(L1))\n",
    "print(\"L2.append(9) = {},\\t L3.insert(2,9) = {}\".format(L2, L3))\n",
    "print(\"L4.remove(3) = {},\\t L5.pop() = {}\".format(L4, L5))"
   ]
  },
  {
   "cell_type": "code",
   "execution_count": 37,
   "id": "collect-miniature",
   "metadata": {},
   "outputs": [
    {
     "name": "stdout",
     "output_type": "stream",
     "text": [
      "L1 = [1, 2, 3],  L2 = ['a', 'b']\n",
      "L1 + L2 = [1, 2, 3, 'a', 'b']\n",
      "3  * L2 = ['a', 'b', 'a', 'b', 'a', 'b']\n"
     ]
    }
   ],
   "source": [
    "# 运算 (连接、数乘重复)\n",
    "L1 = list(range(1,4));   L2 = [\"a\", \"b\"]\n",
    "print(\"L1 = {},  L2 = {}\".format(L1, L2))\n",
    "print(\"L1 + L2 = {}\".format(L1 + L2))\n",
    "print(\"3  * L2 = {}\".format(3 *  L2))\n",
    "# print(\"L1 = {},  L2 = {}\".format(L1, L2))   # 前面的运算并未赋值，不影响原有列表"
   ]
  },
  {
   "cell_type": "markdown",
   "id": "streaming-large",
   "metadata": {},
   "source": [
    "### 排序、频数、最大值、最小值"
   ]
  },
  {
   "cell_type": "code",
   "execution_count": 47,
   "id": "sunset-blake",
   "metadata": {
    "scrolled": true
   },
   "outputs": [
    {
     "name": "stdout",
     "output_type": "stream",
     "text": [
      "0、初始列表为：[1, 2, 3, 4, 5, 4, 3]\n",
      "1、L1.sort()=[1, 2, 3, 3, 4, 4, 5]\n",
      "2、sorted(L2)=[1, 2, 3, 3, 4, 4, 5],\t L2=[1, 2, 3, 4, 5, 4, 3]\n"
     ]
    }
   ],
   "source": [
    "# 排序\n",
    "L0 = [1,2,3,4,5,4,3];  L1 = L0[:];  L2 = L0[:];  L1.sort()\n",
    "print(\"0、初始列表为：{}\".format(L0))\n",
    "print(\"1、L1.sort()={}\".format(L1))    # list.sort()排序且改变原列表\n",
    "print(\"2、sorted(L2)={},\\t L2={}\".format(sorted(L2), L2))    # sorted(list) 返回排序列表，但不改变原列表"
   ]
  },
  {
   "cell_type": "code",
   "execution_count": 49,
   "id": "handled-stephen",
   "metadata": {},
   "outputs": [
    {
     "name": "stdout",
     "output_type": "stream",
     "text": [
      "0、初始列表为：[1, 2, 3, 4, 5, 4, 3]\n",
      "1、L1.reverse()=[3, 4, 5, 4, 3, 2, 1]\n",
      "2、L2[::-1]=[3, 4, 5, 4, 3, 2, 1]\n"
     ]
    }
   ],
   "source": [
    "# 逆序\n",
    "L0 = [1,2,3,4,5,4,3];  L1 = L0[:];  L2 = L0[:]\n",
    "L1.reverse();    L2 = L2[::-1]\n",
    "print(\"0、初始列表为：{}\".format(L0))\n",
    "print(\"1、L1.reverse()={}\".format(L1))\n",
    "print(\"2、L2[::-1]={}\".format(L2))"
   ]
  },
  {
   "cell_type": "code",
   "execution_count": 60,
   "id": "korean-grade",
   "metadata": {},
   "outputs": [
    {
     "name": "stdout",
     "output_type": "stream",
     "text": [
      "0、初始列表为：[1, 2, 3, 4, 5, 4, 3]\n",
      "1、元素3出现的次数为：2\n",
      "2、元素3第一次出现的索引号为：2\n",
      "3、max(L1) = 5， min(L1) = 1， sum(L1) = 22\n"
     ]
    }
   ],
   "source": [
    "# 频数、位置、极值、求和\n",
    "L1 = [1,2,3,4,5,4,3];   item1 = 3\n",
    "print(\"0、初始列表为：{}\".format(L1))\n",
    "print(\"1、元素{}出现的次数为：{}\".format(item1, L1.count(item1)))     # Count an item\n",
    "print(\"2、元素{}第一次出现的索引号为：{}\".format(item1,L1.index(item1)))      # Get the index of an item，注意序号从0开始的\n",
    "print(\"3、max(L1) = {}， min(L1) = {}， sum(L1) = {}\".format(max(L1),min(L1),sum(L1)))          # max, min, sum"
   ]
  },
  {
   "cell_type": "markdown",
   "id": "gross-willow",
   "metadata": {},
   "source": [
    "### 判断、与字符串的转换"
   ]
  },
  {
   "cell_type": "code",
   "execution_count": 68,
   "id": "concrete-midwest",
   "metadata": {},
   "outputs": [
    {
     "name": "stdout",
     "output_type": "stream",
     "text": [
      "0、初始列表为：[0, 1, 2, 3, 4]\n",
      "1、列表包含元素5？-> False\n",
      "2、列表不包含元素5？-> True\n",
      "3、列表所有元素>0：False\n",
      "4、列表任一元素>0：True\n"
     ]
    }
   ],
   "source": [
    "# 判断\n",
    "L1 = list(range(5))\n",
    "print(\"0、初始列表为：{}\".format(L1))\n",
    "print(\"1、列表包含元素{}？-> {}\".format(5, 5 in L1))\n",
    "print(\"2、列表不包含元素{}？-> {}\".format(5, 5 not in L1))\n",
    "print(\"3、列表所有元素>0：{}\".format(all(L1)))\n",
    "print(\"4、列表任一元素>0：{}\".format(any(L1)))"
   ]
  },
  {
   "cell_type": "code",
   "execution_count": 78,
   "id": "european-volunteer",
   "metadata": {},
   "outputs": [
    {
     "name": "stdout",
     "output_type": "stream",
     "text": [
      "0、初始字符串为：我爱中国\n",
      "1、list(str)转换为：['我', '爱', '中', '国']\n",
      "2、初始字符串为：我.爱.中.国\n",
      "3、str.split()转换为：['我', '爱', '中', '国']\n",
      "4、'连接符'.join(list)转换为：我-爱-中-国\n"
     ]
    }
   ],
   "source": [
    "# 与字符串的转换\n",
    "str1 = \"我爱中国\";    L1 = list(str1)\n",
    "print(\"0、初始字符串为：{}\".format(str1))\n",
    "print(\"1、list(str)转换为：{}\".format(L1))\n",
    "str2 = \"我.爱.中.国\";    L2 = str2.split('.')\n",
    "print(\"2、初始字符串为：{}\".format(str2))\n",
    "print(\"3、str.split()转换为：{}\".format(L2))\n",
    "str3 = '-'.join(L2)\n",
    "print(\"4、'连接符'.join(list)转换为：{}\".format(str3))"
   ]
  },
  {
   "cell_type": "markdown",
   "id": "horizontal-struggle",
   "metadata": {},
   "source": [
    "## 数据类型：元组"
   ]
  },
  {
   "cell_type": "code",
   "execution_count": 85,
   "id": "inner-momentum",
   "metadata": {},
   "outputs": [
    {
     "name": "stdout",
     "output_type": "stream",
     "text": [
      "0、初始元组： T1=(1, 2, 3)\n",
      "1、L1 = list(T1)=[1, 2, 3]\n",
      "2、T2 = tuple(L1)=(1, 2, 3)\n",
      "3、x=1, y=2, z=3\n"
     ]
    }
   ],
   "source": [
    "# 元组\n",
    "T1 = (1,2,3);   L1 = list(T1);   T2 = tuple(L1)\n",
    "print(\"0、初始元组： T1={}\".format(T1))\n",
    "print(\"1、L1 = list(T1)={}\".format(L1))\n",
    "print(\"2、T2 = tuple(L1)={}\".format(T2))\n",
    "x,y,z = T1    # 将元组的元素 解包 为变量\n",
    "print(\"3、x={}, y={}, z={}\".format(x,y,z))"
   ]
  },
  {
   "cell_type": "markdown",
   "id": "juvenile-webster",
   "metadata": {},
   "source": [
    "## 数据类型：字典"
   ]
  },
  {
   "cell_type": "code",
   "execution_count": 1,
   "id": "suffering-fifteen",
   "metadata": {},
   "outputs": [
    {
     "name": "stdout",
     "output_type": "stream",
     "text": [
      "1、张三的数学成绩为：88\n",
      "2、键为：dict_keys(['张三', '李四', '王五'])\n",
      "3、值为：dict_values([88, 92, 78])\n",
      "4、字典为：dict_items([('张三', 88), ('李四', 92), ('王五', 78)])\n"
     ]
    }
   ],
   "source": [
    "# 字典\n",
    "# 英语成绩 = {\"张三\":85, \"李四\":75, \"王五\":95}\n",
    "数学成绩 = {\"张三\":88, \"李四\":92, \"王五\":78}\n",
    "print(\"1、张三的数学成绩为：{}\".format(数学成绩[\"张三\"]))\n",
    "print(\"2、键为：{}\".format(数学成绩.keys()))\n",
    "print(\"3、值为：{}\".format(数学成绩.values()))\n",
    "print(\"4、字典为：{}\".format(数学成绩.items()))"
   ]
  },
  {
   "cell_type": "markdown",
   "id": "ready-newcastle",
   "metadata": {},
   "source": [
    "## 数据类型：集合"
   ]
  },
  {
   "cell_type": "code",
   "execution_count": 2,
   "id": "inappropriate-storm",
   "metadata": {},
   "outputs": [
    {
     "name": "stdout",
     "output_type": "stream",
     "text": [
      "1、S1={'c', 'a', 'b'}, S2={'e', 'b'}\n",
      "2、并集S1∪S2={'e', 'c', 'a', 'b'}, 交集S1∩S2={'b'}\n",
      "3、差集S1-S2={'c', 'a'}, S2-S1={'e'}\n",
      "4、补集S1-S2={'e', 'c', 'a'}, S2-S1={'e', 'c', 'a'}\n"
     ]
    }
   ],
   "source": [
    "S1 = {\"a\", \"b\", \"c\"}; S2 = set(\"bee\")\n",
    "print(\"1、S1={}, S2={}\".format(S1, S2))\n",
    "print(\"2、并集S1∪S2={}, 交集S1∩S2={}\".format(S1|S2, S1&S2))\n",
    "print(\"3、差集S1-S2={}, S2-S1={}\".format(S1-S2, S2-S1))\n",
    "print(\"4、补集S1-S2={}, S2-S1={}\".format(S1^S2, S2^S1))"
   ]
  },
  {
   "cell_type": "markdown",
   "id": "positive-locking",
   "metadata": {},
   "source": [
    "## 数据框：DataFrame"
   ]
  },
  {
   "cell_type": "code",
   "execution_count": 3,
   "id": "everyday-moral",
   "metadata": {},
   "outputs": [],
   "source": [
    "import pandas as pd "
   ]
  },
  {
   "cell_type": "markdown",
   "id": "killing-bridal",
   "metadata": {},
   "source": [
    "### # 创建 DataFrame"
   ]
  },
  {
   "cell_type": "code",
   "execution_count": 4,
   "id": "senior-place",
   "metadata": {},
   "outputs": [
    {
     "data": {
      "text/html": [
       "<div>\n",
       "<style scoped>\n",
       "    .dataframe tbody tr th:only-of-type {\n",
       "        vertical-align: middle;\n",
       "    }\n",
       "\n",
       "    .dataframe tbody tr th {\n",
       "        vertical-align: top;\n",
       "    }\n",
       "\n",
       "    .dataframe thead th {\n",
       "        text-align: right;\n",
       "    }\n",
       "</style>\n",
       "<table border=\"1\" class=\"dataframe\">\n",
       "  <thead>\n",
       "    <tr style=\"text-align: right;\">\n",
       "      <th></th>\n",
       "      <th>姓名</th>\n",
       "      <th>数学</th>\n",
       "      <th>英语</th>\n",
       "    </tr>\n",
       "  </thead>\n",
       "  <tbody>\n",
       "    <tr>\n",
       "      <th>0</th>\n",
       "      <td>张三</td>\n",
       "      <td>88</td>\n",
       "      <td>85</td>\n",
       "    </tr>\n",
       "    <tr>\n",
       "      <th>1</th>\n",
       "      <td>李四</td>\n",
       "      <td>92</td>\n",
       "      <td>75</td>\n",
       "    </tr>\n",
       "  </tbody>\n",
       "</table>\n",
       "</div>"
      ],
      "text/plain": [
       "   姓名  数学  英语\n",
       "0  张三  88  85\n",
       "1  李四  92  75"
      ]
     },
     "execution_count": 4,
     "metadata": {},
     "output_type": "execute_result"
    }
   ],
   "source": [
    "# 创建 DataFrame，通过字典\n",
    "dict1 = {\"姓名\":[\"张三\",\"李四\"],  \"数学\":[88,92], \"英语\":[85,75]}\n",
    "df1 = pd.DataFrame(dict1)\n",
    "df1"
   ]
  },
  {
   "cell_type": "code",
   "execution_count": 5,
   "id": "historical-manchester",
   "metadata": {},
   "outputs": [
    {
     "data": {
      "text/html": [
       "<div>\n",
       "<style scoped>\n",
       "    .dataframe tbody tr th:only-of-type {\n",
       "        vertical-align: middle;\n",
       "    }\n",
       "\n",
       "    .dataframe tbody tr th {\n",
       "        vertical-align: top;\n",
       "    }\n",
       "\n",
       "    .dataframe thead th {\n",
       "        text-align: right;\n",
       "    }\n",
       "</style>\n",
       "<table border=\"1\" class=\"dataframe\">\n",
       "  <thead>\n",
       "    <tr style=\"text-align: right;\">\n",
       "      <th></th>\n",
       "      <th>姓名</th>\n",
       "      <th>数学</th>\n",
       "      <th>英语</th>\n",
       "    </tr>\n",
       "  </thead>\n",
       "  <tbody>\n",
       "    <tr>\n",
       "      <th>0</th>\n",
       "      <td>张三</td>\n",
       "      <td>88</td>\n",
       "      <td>85</td>\n",
       "    </tr>\n",
       "    <tr>\n",
       "      <th>1</th>\n",
       "      <td>李四</td>\n",
       "      <td>92</td>\n",
       "      <td>75</td>\n",
       "    </tr>\n",
       "  </tbody>\n",
       "</table>\n",
       "</div>"
      ],
      "text/plain": [
       "   姓名  数学  英语\n",
       "0  张三  88  85\n",
       "1  李四  92  75"
      ]
     },
     "execution_count": 5,
     "metadata": {},
     "output_type": "execute_result"
    }
   ],
   "source": [
    "# 创建 空 DataFrame\n",
    "df2 = pd.DataFrame(columns=[\"姓名\",  \"数学\", \"英语\"])\n",
    "df2.loc[0]=[\"张三\",88,85]\t\t# \n",
    "df2.loc[1]=[\"李四\",92,75]\n",
    "df2"
   ]
  },
  {
   "cell_type": "markdown",
   "id": "accredited-consequence",
   "metadata": {},
   "source": [
    "### DataFrame引用"
   ]
  },
  {
   "cell_type": "code",
   "execution_count": 6,
   "id": "essential-lodging",
   "metadata": {},
   "outputs": [
    {
     "data": {
      "text/plain": [
       "0    张三\n",
       "1    李四\n",
       "Name: 姓名, dtype: object"
      ]
     },
     "execution_count": 6,
     "metadata": {},
     "output_type": "execute_result"
    }
   ],
   "source": [
    "df2[\"姓名\"]    # 引用单列"
   ]
  },
  {
   "cell_type": "code",
   "execution_count": 7,
   "id": "phantom-gathering",
   "metadata": {
    "scrolled": true
   },
   "outputs": [
    {
     "data": {
      "text/html": [
       "<div>\n",
       "<style scoped>\n",
       "    .dataframe tbody tr th:only-of-type {\n",
       "        vertical-align: middle;\n",
       "    }\n",
       "\n",
       "    .dataframe tbody tr th {\n",
       "        vertical-align: top;\n",
       "    }\n",
       "\n",
       "    .dataframe thead th {\n",
       "        text-align: right;\n",
       "    }\n",
       "</style>\n",
       "<table border=\"1\" class=\"dataframe\">\n",
       "  <thead>\n",
       "    <tr style=\"text-align: right;\">\n",
       "      <th></th>\n",
       "      <th>姓名</th>\n",
       "      <th>数学</th>\n",
       "    </tr>\n",
       "  </thead>\n",
       "  <tbody>\n",
       "    <tr>\n",
       "      <th>0</th>\n",
       "      <td>张三</td>\n",
       "      <td>88</td>\n",
       "    </tr>\n",
       "    <tr>\n",
       "      <th>1</th>\n",
       "      <td>李四</td>\n",
       "      <td>92</td>\n",
       "    </tr>\n",
       "  </tbody>\n",
       "</table>\n",
       "</div>"
      ],
      "text/plain": [
       "   姓名  数学\n",
       "0  张三  88\n",
       "1  李四  92"
      ]
     },
     "execution_count": 7,
     "metadata": {},
     "output_type": "execute_result"
    }
   ],
   "source": [
    "df2[[\"姓名\",  \"数学\"]]    # 采用列表引用多列"
   ]
  },
  {
   "cell_type": "code",
   "execution_count": 8,
   "id": "operational-distance",
   "metadata": {
    "scrolled": true
   },
   "outputs": [
    {
     "data": {
      "text/plain": [
       "姓名    张三\n",
       "数学    88\n",
       "英语    85\n",
       "Name: 0, dtype: object"
      ]
     },
     "execution_count": 8,
     "metadata": {},
     "output_type": "execute_result"
    }
   ],
   "source": [
    "df2.loc[0]    # 参数为行标签(若有的话)"
   ]
  },
  {
   "cell_type": "code",
   "execution_count": 9,
   "id": "qualified-gathering",
   "metadata": {
    "scrolled": true
   },
   "outputs": [
    {
     "data": {
      "text/plain": [
       "姓名    张三\n",
       "数学    88\n",
       "英语    85\n",
       "Name: 0, dtype: object"
      ]
     },
     "execution_count": 9,
     "metadata": {},
     "output_type": "execute_result"
    }
   ],
   "source": [
    "df2.iloc[0]    # 参数为序列号"
   ]
  },
  {
   "cell_type": "code",
   "execution_count": 10,
   "id": "ignored-texas",
   "metadata": {},
   "outputs": [
    {
     "data": {
      "text/html": [
       "<div>\n",
       "<style scoped>\n",
       "    .dataframe tbody tr th:only-of-type {\n",
       "        vertical-align: middle;\n",
       "    }\n",
       "\n",
       "    .dataframe tbody tr th {\n",
       "        vertical-align: top;\n",
       "    }\n",
       "\n",
       "    .dataframe thead th {\n",
       "        text-align: right;\n",
       "    }\n",
       "</style>\n",
       "<table border=\"1\" class=\"dataframe\">\n",
       "  <thead>\n",
       "    <tr style=\"text-align: right;\">\n",
       "      <th></th>\n",
       "      <th>姓名</th>\n",
       "      <th>数学</th>\n",
       "      <th>英语</th>\n",
       "    </tr>\n",
       "  </thead>\n",
       "  <tbody>\n",
       "    <tr>\n",
       "      <th>0</th>\n",
       "      <td>张三</td>\n",
       "      <td>88</td>\n",
       "      <td>85</td>\n",
       "    </tr>\n",
       "    <tr>\n",
       "      <th>1</th>\n",
       "      <td>李四</td>\n",
       "      <td>92</td>\n",
       "      <td>75</td>\n",
       "    </tr>\n",
       "  </tbody>\n",
       "</table>\n",
       "</div>"
      ],
      "text/plain": [
       "   姓名  数学  英语\n",
       "0  张三  88  85\n",
       "1  李四  92  75"
      ]
     },
     "execution_count": 10,
     "metadata": {},
     "output_type": "execute_result"
    }
   ],
   "source": [
    "df2.head()"
   ]
  },
  {
   "cell_type": "markdown",
   "id": "least-quilt",
   "metadata": {},
   "source": [
    "### DataFrame修改、增、删"
   ]
  },
  {
   "cell_type": "code",
   "execution_count": 11,
   "id": "congressional-carbon",
   "metadata": {},
   "outputs": [
    {
     "name": "stderr",
     "output_type": "stream",
     "text": [
      "C:\\Users\\zlq17\\AppData\\Local\\Temp\\ipykernel_15884\\75826585.py:2: SettingWithCopyWarning: \n",
      "A value is trying to be set on a copy of a slice from a DataFrame\n",
      "\n",
      "See the caveats in the documentation: https://pandas.pydata.org/pandas-docs/stable/user_guide/indexing.html#returning-a-view-versus-a-copy\n",
      "  df3 = df2.copy(); df3[\"姓名\"][0] = \"王五\"    # 避免改动原数据集\n"
     ]
    },
    {
     "data": {
      "text/html": [
       "<div>\n",
       "<style scoped>\n",
       "    .dataframe tbody tr th:only-of-type {\n",
       "        vertical-align: middle;\n",
       "    }\n",
       "\n",
       "    .dataframe tbody tr th {\n",
       "        vertical-align: top;\n",
       "    }\n",
       "\n",
       "    .dataframe thead th {\n",
       "        text-align: right;\n",
       "    }\n",
       "</style>\n",
       "<table border=\"1\" class=\"dataframe\">\n",
       "  <thead>\n",
       "    <tr style=\"text-align: right;\">\n",
       "      <th></th>\n",
       "      <th>姓名</th>\n",
       "      <th>数学</th>\n",
       "      <th>英语</th>\n",
       "    </tr>\n",
       "  </thead>\n",
       "  <tbody>\n",
       "    <tr>\n",
       "      <th>0</th>\n",
       "      <td>王五</td>\n",
       "      <td>88</td>\n",
       "      <td>85</td>\n",
       "    </tr>\n",
       "    <tr>\n",
       "      <th>1</th>\n",
       "      <td>李四</td>\n",
       "      <td>92</td>\n",
       "      <td>75</td>\n",
       "    </tr>\n",
       "  </tbody>\n",
       "</table>\n",
       "</div>"
      ],
      "text/plain": [
       "   姓名  数学  英语\n",
       "0  王五  88  85\n",
       "1  李四  92  75"
      ]
     },
     "execution_count": 11,
     "metadata": {},
     "output_type": "execute_result"
    }
   ],
   "source": [
    "# 修改\n",
    "df3 = df2.copy(); df3[\"姓名\"][0] = \"王五\"    # 避免改动原数据集\n",
    "df3"
   ]
  },
  {
   "cell_type": "code",
   "execution_count": 12,
   "id": "graduate-weather",
   "metadata": {},
   "outputs": [
    {
     "data": {
      "text/html": [
       "<div>\n",
       "<style scoped>\n",
       "    .dataframe tbody tr th:only-of-type {\n",
       "        vertical-align: middle;\n",
       "    }\n",
       "\n",
       "    .dataframe tbody tr th {\n",
       "        vertical-align: top;\n",
       "    }\n",
       "\n",
       "    .dataframe thead th {\n",
       "        text-align: right;\n",
       "    }\n",
       "</style>\n",
       "<table border=\"1\" class=\"dataframe\">\n",
       "  <thead>\n",
       "    <tr style=\"text-align: right;\">\n",
       "      <th></th>\n",
       "      <th>姓名</th>\n",
       "      <th>数学</th>\n",
       "      <th>英语</th>\n",
       "    </tr>\n",
       "  </thead>\n",
       "  <tbody>\n",
       "    <tr>\n",
       "      <th>0</th>\n",
       "      <td>张三</td>\n",
       "      <td>88.0</td>\n",
       "      <td>85.0</td>\n",
       "    </tr>\n",
       "    <tr>\n",
       "      <th>1</th>\n",
       "      <td>李四</td>\n",
       "      <td>92.0</td>\n",
       "      <td>75.0</td>\n",
       "    </tr>\n",
       "    <tr>\n",
       "      <th>3</th>\n",
       "      <td>王五</td>\n",
       "      <td>70.0</td>\n",
       "      <td>70.0</td>\n",
       "    </tr>\n",
       "  </tbody>\n",
       "</table>\n",
       "</div>"
      ],
      "text/plain": [
       "   姓名    数学    英语\n",
       "0  张三  88.0  85.0\n",
       "1  李四  92.0  75.0\n",
       "3  王五  70.0  70.0"
      ]
     },
     "execution_count": 12,
     "metadata": {},
     "output_type": "execute_result"
    }
   ],
   "source": [
    "# 增加行\n",
    "df3 = df2.copy()\n",
    "df3.loc[3,:]=[\"王五\", 70,70]   # 增加行\n",
    "df3"
   ]
  },
  {
   "cell_type": "code",
   "execution_count": 13,
   "id": "alike-heather",
   "metadata": {},
   "outputs": [
    {
     "data": {
      "text/html": [
       "<div>\n",
       "<style scoped>\n",
       "    .dataframe tbody tr th:only-of-type {\n",
       "        vertical-align: middle;\n",
       "    }\n",
       "\n",
       "    .dataframe tbody tr th {\n",
       "        vertical-align: top;\n",
       "    }\n",
       "\n",
       "    .dataframe thead th {\n",
       "        text-align: right;\n",
       "    }\n",
       "</style>\n",
       "<table border=\"1\" class=\"dataframe\">\n",
       "  <thead>\n",
       "    <tr style=\"text-align: right;\">\n",
       "      <th></th>\n",
       "      <th>姓名</th>\n",
       "      <th>数学</th>\n",
       "      <th>英语</th>\n",
       "      <th>平均</th>\n",
       "    </tr>\n",
       "  </thead>\n",
       "  <tbody>\n",
       "    <tr>\n",
       "      <th>0</th>\n",
       "      <td>张三</td>\n",
       "      <td>88</td>\n",
       "      <td>85</td>\n",
       "      <td>86.5</td>\n",
       "    </tr>\n",
       "    <tr>\n",
       "      <th>1</th>\n",
       "      <td>李四</td>\n",
       "      <td>92</td>\n",
       "      <td>75</td>\n",
       "      <td>83.5</td>\n",
       "    </tr>\n",
       "  </tbody>\n",
       "</table>\n",
       "</div>"
      ],
      "text/plain": [
       "   姓名  数学  英语    平均\n",
       "0  张三  88  85  86.5\n",
       "1  李四  92  75  83.5"
      ]
     },
     "execution_count": 13,
     "metadata": {},
     "output_type": "execute_result"
    }
   ],
   "source": [
    "# 增加列\n",
    "df3 = df2.copy()\n",
    "df3[\"平均\"]=df3[[\"数学\",\"英语\"]].mean(axis=1)   # 增加列\n",
    "df3"
   ]
  },
  {
   "cell_type": "code",
   "execution_count": 14,
   "id": "effective-chair",
   "metadata": {},
   "outputs": [
    {
     "data": {
      "text/html": [
       "<div>\n",
       "<style scoped>\n",
       "    .dataframe tbody tr th:only-of-type {\n",
       "        vertical-align: middle;\n",
       "    }\n",
       "\n",
       "    .dataframe tbody tr th {\n",
       "        vertical-align: top;\n",
       "    }\n",
       "\n",
       "    .dataframe thead th {\n",
       "        text-align: right;\n",
       "    }\n",
       "</style>\n",
       "<table border=\"1\" class=\"dataframe\">\n",
       "  <thead>\n",
       "    <tr style=\"text-align: right;\">\n",
       "      <th></th>\n",
       "      <th>姓名</th>\n",
       "      <th>数学</th>\n",
       "      <th>英语</th>\n",
       "    </tr>\n",
       "  </thead>\n",
       "  <tbody>\n",
       "    <tr>\n",
       "      <th>1</th>\n",
       "      <td>李四</td>\n",
       "      <td>92</td>\n",
       "      <td>75</td>\n",
       "    </tr>\n",
       "  </tbody>\n",
       "</table>\n",
       "</div>"
      ],
      "text/plain": [
       "   姓名  数学  英语\n",
       "1  李四  92  75"
      ]
     },
     "execution_count": 14,
     "metadata": {},
     "output_type": "execute_result"
    }
   ],
   "source": [
    "df2.drop(0,axis=0)    # axis=0 指定删除行"
   ]
  },
  {
   "cell_type": "code",
   "execution_count": 15,
   "id": "theoretical-joint",
   "metadata": {},
   "outputs": [
    {
     "data": {
      "text/html": [
       "<div>\n",
       "<style scoped>\n",
       "    .dataframe tbody tr th:only-of-type {\n",
       "        vertical-align: middle;\n",
       "    }\n",
       "\n",
       "    .dataframe tbody tr th {\n",
       "        vertical-align: top;\n",
       "    }\n",
       "\n",
       "    .dataframe thead th {\n",
       "        text-align: right;\n",
       "    }\n",
       "</style>\n",
       "<table border=\"1\" class=\"dataframe\">\n",
       "  <thead>\n",
       "    <tr style=\"text-align: right;\">\n",
       "      <th></th>\n",
       "      <th>姓名</th>\n",
       "      <th>英语</th>\n",
       "    </tr>\n",
       "  </thead>\n",
       "  <tbody>\n",
       "    <tr>\n",
       "      <th>0</th>\n",
       "      <td>张三</td>\n",
       "      <td>85</td>\n",
       "    </tr>\n",
       "    <tr>\n",
       "      <th>1</th>\n",
       "      <td>李四</td>\n",
       "      <td>75</td>\n",
       "    </tr>\n",
       "  </tbody>\n",
       "</table>\n",
       "</div>"
      ],
      "text/plain": [
       "   姓名  英语\n",
       "0  张三  85\n",
       "1  李四  75"
      ]
     },
     "execution_count": 15,
     "metadata": {},
     "output_type": "execute_result"
    }
   ],
   "source": [
    "df2.drop([\"数学\"],axis=1)    # axis=1 指定删除列"
   ]
  },
  {
   "cell_type": "code",
   "execution_count": 16,
   "id": "combined-destruction",
   "metadata": {},
   "outputs": [
    {
     "data": {
      "text/html": [
       "<div>\n",
       "<style scoped>\n",
       "    .dataframe tbody tr th:only-of-type {\n",
       "        vertical-align: middle;\n",
       "    }\n",
       "\n",
       "    .dataframe tbody tr th {\n",
       "        vertical-align: top;\n",
       "    }\n",
       "\n",
       "    .dataframe thead th {\n",
       "        text-align: right;\n",
       "    }\n",
       "</style>\n",
       "<table border=\"1\" class=\"dataframe\">\n",
       "  <thead>\n",
       "    <tr style=\"text-align: right;\">\n",
       "      <th></th>\n",
       "      <th>姓名</th>\n",
       "      <th>英语</th>\n",
       "    </tr>\n",
       "  </thead>\n",
       "  <tbody>\n",
       "    <tr>\n",
       "      <th>0</th>\n",
       "      <td>张三</td>\n",
       "      <td>85</td>\n",
       "    </tr>\n",
       "    <tr>\n",
       "      <th>1</th>\n",
       "      <td>李四</td>\n",
       "      <td>75</td>\n",
       "    </tr>\n",
       "  </tbody>\n",
       "</table>\n",
       "</div>"
      ],
      "text/plain": [
       "   姓名  英语\n",
       "0  张三  85\n",
       "1  李四  75"
      ]
     },
     "execution_count": 16,
     "metadata": {},
     "output_type": "execute_result"
    }
   ],
   "source": [
    "df2.drop(columns=[\"数学\"])    # columns= 指定删除列"
   ]
  },
  {
   "cell_type": "code",
   "execution_count": 17,
   "id": "short-cooler",
   "metadata": {},
   "outputs": [
    {
     "data": {
      "text/html": [
       "<div>\n",
       "<style scoped>\n",
       "    .dataframe tbody tr th:only-of-type {\n",
       "        vertical-align: middle;\n",
       "    }\n",
       "\n",
       "    .dataframe tbody tr th {\n",
       "        vertical-align: top;\n",
       "    }\n",
       "\n",
       "    .dataframe thead th {\n",
       "        text-align: right;\n",
       "    }\n",
       "</style>\n",
       "<table border=\"1\" class=\"dataframe\">\n",
       "  <thead>\n",
       "    <tr style=\"text-align: right;\">\n",
       "      <th></th>\n",
       "      <th>姓名</th>\n",
       "      <th>英语</th>\n",
       "    </tr>\n",
       "  </thead>\n",
       "  <tbody>\n",
       "    <tr>\n",
       "      <th>0</th>\n",
       "      <td>张三</td>\n",
       "      <td>85</td>\n",
       "    </tr>\n",
       "    <tr>\n",
       "      <th>1</th>\n",
       "      <td>李四</td>\n",
       "      <td>75</td>\n",
       "    </tr>\n",
       "  </tbody>\n",
       "</table>\n",
       "</div>"
      ],
      "text/plain": [
       "   姓名  英语\n",
       "0  张三  85\n",
       "1  李四  75"
      ]
     },
     "execution_count": 17,
     "metadata": {},
     "output_type": "execute_result"
    }
   ],
   "source": [
    "df2.drop(columns=[\"数学\"],inplace=True)    # inplace=True 彻底删除\n",
    "df2"
   ]
  },
  {
   "cell_type": "markdown",
   "id": "european-theology",
   "metadata": {},
   "source": [
    "## 判断与循环\n",
    "* python 中 for 常与 range()函数配合，遍历数字序列\n",
    "### 例1：九九乘法表"
   ]
  },
  {
   "cell_type": "code",
   "execution_count": 18,
   "id": "unknown-butter",
   "metadata": {},
   "outputs": [
    {
     "name": "stdout",
     "output_type": "stream",
     "text": [
      "1×1=1\t\n",
      "2×1=2\t2×2=4\t\n",
      "3×1=3\t3×2=6\t3×3=9\t\n",
      "4×1=4\t4×2=8\t4×3=12\t4×4=16\t\n",
      "5×1=5\t5×2=10\t5×3=15\t5×4=20\t5×5=25\t\n",
      "6×1=6\t6×2=12\t6×3=18\t6×4=24\t6×5=30\t6×6=36\t\n",
      "7×1=7\t7×2=14\t7×3=21\t7×4=28\t7×5=35\t7×6=42\t7×7=49\t\n",
      "8×1=8\t8×2=16\t8×3=24\t8×4=32\t8×5=40\t8×6=48\t8×7=56\t8×8=64\t\n",
      "9×1=9\t9×2=18\t9×3=27\t9×4=36\t9×5=45\t9×6=54\t9×7=63\t9×8=72\t9×9=81\t\n"
     ]
    }
   ],
   "source": [
    "# 九九乘法表\n",
    "for i in range(1,10):\n",
    "    for j in range(1,i+1):\n",
    "        print(\"{0}×{1}={2}\".format(i,j,i*j), end = '\\t')\n",
    "    print()"
   ]
  },
  {
   "cell_type": "markdown",
   "id": "lovely-collectible",
   "metadata": {},
   "source": [
    "### 例2：简化for循环，生成列表、集合、字典等"
   ]
  },
  {
   "cell_type": "code",
   "execution_count": 19,
   "id": "verified-palestine",
   "metadata": {},
   "outputs": [
    {
     "name": "stdout",
     "output_type": "stream",
     "text": [
      "['序号1', '序号2', '序号3', '序号4', '序号5', '序号6', '序号7', '序号8', '序号9']\n",
      "[1, 2, 3, 4, 5, 6, 7, 8, 9]\n"
     ]
    }
   ],
   "source": [
    "# 将数字序列转为字符列表，可用于批量提取信息\n",
    "L_num1 = range(1,10)\n",
    "L_str = [ '序号' + str(i) for i in L_num1]\n",
    "print(L_str)\n",
    "L_num2 = [ int(item[2]) for item in L_str ]\n",
    "print(L_num2)"
   ]
  },
  {
   "cell_type": "markdown",
   "id": "sound-helicopter",
   "metadata": {},
   "source": [
    "# 存取数据\n",
    "# 基本绘图命令\n",
    "以matplotlib为例\n",
    "## 简例\n",
    "目前常用matplotlib.pyplot模块，处理了大量细节如图例和坐标轴等，从而用户可专注于数据分析.\\\n",
    "可以类似matlab作图"
   ]
  },
  {
   "cell_type": "code",
   "execution_count": 20,
   "id": "whole-frost",
   "metadata": {},
   "outputs": [],
   "source": [
    "# 导入需要的包，并命名为常用别名\n",
    "import matplotlib.pyplot as plt   # 用于作图\n",
    "import numpy as np                # 用于数学和处理数据"
   ]
  },
  {
   "cell_type": "code",
   "execution_count": 50,
   "id": "organizational-scratch",
   "metadata": {},
   "outputs": [
    {
     "data": {
      "image/png": "[encoded data removed]",
      "text/plain": [
       "<Figure size 432x288 with 1 Axes>"
      ]
     },
     "metadata": {
      "needs_background": "light"
     },
     "output_type": "display_data"
    }
   ],
   "source": [
    "# 生成数据\n",
    "x = np.arange(0, 2*np.pi, 0.1)\n",
    "y = np.sin(x)\n",
    "# 绘制图形\n",
    "plt.plot(x,y)\n",
    "# 保存图形\n",
    "plt.savefig(\"D:/杜鸿飞/教学/多元统计分析/pic/2.2 Python基础/2.2 图形演示_简例.jpg\",dpi=600) \n",
    "# 显示图形\n",
    "plt.show()"
   ]
  },
  {
   "cell_type": "markdown",
   "id": "respected-gnome",
   "metadata": {},
   "source": [
    "## 线型、点型、颜色"
   ]
  },
  {
   "cell_type": "code",
   "execution_count": 49,
   "id": "transparent-heading",
   "metadata": {},
   "outputs": [
    {
     "data": {
      "image/png": "[encoded data removed]",
      "text/plain": [
       "<Figure size 432x288 with 1 Axes>"
      ]
     },
     "metadata": {
      "needs_background": "light"
     },
     "output_type": "display_data"
    }
   ],
   "source": [
    "x = np.arange(0, 2*np.pi, 0.1)\n",
    "y1 = np.sin(x);  y2 = x + y1;   y3 = x * y1;\n",
    "plt.plot(x,y1,'b-')\n",
    "plt.plot(x,y2,'c--')\n",
    "plt.plot(x,y3,'r*', lw = 0.5)\n",
    "# 保存图形\n",
    "plt.savefig(\"D:/杜鸿飞/教学/多元统计分析/pic/2.2 Python基础/2.2 图形演示_点、线、色.jpg\",dpi=600) \n",
    "plt.show()"
   ]
  },
  {
   "cell_type": "markdown",
   "id": "suitable-iraqi",
   "metadata": {},
   "source": [
    "## 横线、竖线、多图"
   ]
  },
  {
   "cell_type": "code",
   "execution_count": 53,
   "id": "liked-sitting",
   "metadata": {},
   "outputs": [
    {
     "data": {
      "image/png": "[encoded data removed]",
      "text/plain": [
       "<Figure size 432x288 with 1 Axes>"
      ]
     },
     "metadata": {
      "needs_background": "light"
     },
     "output_type": "display_data"
    }
   ],
   "source": [
    "# 横线和竖线, color、linstyle等不能省略\n",
    "plt.axhline(y=0.5, color='r', linestyle='-')\t\t# 过 y=0.5 的横线\n",
    "plt.axvline(x=0.5, color='m', linestyle='--')\t\t# 过 x=0.5 的竖线\n",
    "plt.hlines(0, -3, 3,color=\"b\", linestyle='-.')#横线\n",
    "plt.vlines(1, -2, 3,color=\"c\", linestyle=':')#竖线\n",
    "# 保存图形\n",
    "plt.savefig(\"D:/杜鸿飞/教学/多元统计分析/pic/2.2 Python基础/2.2 图形演示_横线和竖线.jpg\",dpi=600) \n",
    "plt.show()"
   ]
  },
  {
   "cell_type": "code",
   "execution_count": 69,
   "id": "equipped-comparative",
   "metadata": {},
   "outputs": [
    {
     "data": {
      "image/png": "[encoded data removed]",
      "text/plain": [
       "<Figure size 432x288 with 3 Axes>"
      ]
     },
     "metadata": {
      "needs_background": "light"
     },
     "output_type": "display_data"
    },
    {
     "data": {
      "image/png": "[encoded data removed]",
      "text/plain": [
       "<Figure size 432x288 with 4 Axes>"
      ]
     },
     "metadata": {
      "needs_background": "light"
     },
     "output_type": "display_data"
    }
   ],
   "source": [
    "# 多幅图设置\n",
    "# 准备好数据\n",
    "x = np.linspace(0,10,100)\n",
    "y1 = x;    y2 = -x;\n",
    "y3 = np.sin(x);    y4 = np.cos(x)\n",
    "\n",
    "# 两行两列图形，但第二行仅一幅图\n",
    "plt.figure(1)\n",
    "plt.subplot(2,2,1);  plt.plot(x,y1)\n",
    "plt.subplot(2,2,2);  plt.plot(x,y2)\n",
    "plt.subplot(2,1,2);  plt.plot(x,y3)\n",
    "plt.savefig(\"D:/杜鸿飞/教学/多元统计分析/pic/2.2 Python基础/2.2 图形演示_多幅图1.jpg\",dpi=600) \n",
    "# 两行两列图形，采用ax[]形式引用\n",
    "fig, ax = plt.subplots(2,2)  \n",
    "ax[0,0].plot(x,y1)\n",
    "ax[0,1].plot(x,y2)\n",
    "ax[1,0].plot(x,y3)\n",
    "ax[1,1].plot(x,y4)\n",
    "plt.savefig(\"D:/杜鸿飞/教学/多元统计分析/pic/2.2 Python基础/2.2 图形演示_多幅图2.jpg\",dpi=600) \n",
    "plt.show()"
   ]
  },
  {
   "cell_type": "markdown",
   "id": "conventional-transaction",
   "metadata": {},
   "source": [
    "## 标题、图例、文本、中文显示"
   ]
  },
  {
   "cell_type": "code",
   "execution_count": 29,
   "id": "working-equation",
   "metadata": {},
   "outputs": [
    {
     "data": {
      "image/png": "[encoded data removed]",
      "text/plain": [
       "<Figure size 432x288 with 4 Axes>"
      ]
     },
     "metadata": {
      "needs_background": "light"
     },
     "output_type": "display_data"
    }
   ],
   "source": [
    "# 标题\n",
    "x = np.linspace(0,10,100)\n",
    "y1 = x;    y2 = -x;\n",
    "y3 = np.sin(x);    y4 = np.cos(x)\n",
    "\n",
    "# 两行两列图形，但第二行仅一幅图\n",
    "fig, ax = plt.subplots(2,2)  \n",
    "fig.suptitle(\"suptitle\")  # 大标题，放在图形之前，否则显示可能不正确\n",
    "fig.tight_layout()    # 避免标题与子图重叠，plt绘图时用 plt.tight_layout\n",
    "ax[0,0].plot(x,y1);  ax[0,0].set_title(\"fig1\")\n",
    "ax[0,1].plot(x,y2);  ax[0,1].set_title(\"fig2\")\n",
    "ax[1,0].plot(x,y3);  ax[1,0].set_title(\"fig3\")\n",
    "ax[1,1].plot(x,y4);  ax[1,1].set_title(\"fig4\")\n",
    "\n",
    "# plt.savefig(\"D:/杜鸿飞/教学/多元统计分析/pic/2.2 Python基础/2.2 图形演示_标题.jpg\",dpi=600) \n",
    "plt.show()"
   ]
  },
  {
   "cell_type": "code",
   "execution_count": 23,
   "id": "generic-detail",
   "metadata": {},
   "outputs": [
    {
     "data": {
      "image/png": "[encoded data removed]",
      "text/plain": [
       "<Figure size 432x288 with 1 Axes>"
      ]
     },
     "metadata": {
      "needs_background": "light"
     },
     "output_type": "display_data"
    },
    {
     "data": {
      "image/png": "[encoded data removed]",
      "text/plain": [
       "<Figure size 432x288 with 1 Axes>"
      ]
     },
     "metadata": {
      "needs_background": "light"
     },
     "output_type": "display_data"
    }
   ],
   "source": [
    "# 图例\n",
    "x = np.linspace(0,10,100); y1 = np.sin(x); y2 = np.cos(x)\n",
    "plt.plot(x,y1,'r*', label='$sin(x)$')\n",
    "plt.plot(x,y2,ls='-',lw=1, label='$cos(x)$') # ls--linestyle, lw--linewidth\n",
    "plt.title(\"Legend Demo1\")\n",
    "plt.legend(loc='best', fontsize=12, frameon=True) \n",
    "plt.savefig(\"D:/杜鸿飞/教学/多元统计分析/pic/2.2 Python基础/2.2 图形演示_图例1.jpg\",dpi=600) \n",
    "plt.show()\n",
    "# 另一设置图例方法：绘制图形，赋值给变量 以便后续引用\n",
    "plt.figure()    # 新建一个图形，以免覆盖原来图形\n",
    "pic = plt.plot(x,y1,'r*', x,y2,ls='-',lw=1) # ls 即 linestyle \n",
    "plt.title(\"Legend Demo2\")\n",
    "# print(\"pic={}\".format(pic))  # 图形变量是数组\n",
    "plt.legend((pic[0], pic[1]), ('$sin(x)$', '$cos(x)$'), loc=2) # loc= 不同数字对应不同位置\n",
    "plt.savefig(\"D:/杜鸿飞/教学/多元统计分析/pic/2.2 Python基础/2.2 图形演示_图例2.jpg\",dpi=600) \n",
    "plt.show()\n"
   ]
  },
  {
   "cell_type": "code",
   "execution_count": 27,
   "id": "manufactured-wireless",
   "metadata": {},
   "outputs": [
    {
     "data": {
      "image/png": "[encoded data removed]",
      "text/plain": [
       "<Figure size 432x288 with 1 Axes>"
      ]
     },
     "metadata": {
      "needs_background": "light"
     },
     "output_type": "display_data"
    }
   ],
   "source": [
    "# 文本\n",
    "fig, ax = plt.subplots(figsize=(6,4))\n",
    "\n",
    "plt.plot(range(10))\n",
    "plt.text(0.5, 0.5, 'matplotlib', horizontalalignment='center',\n",
    "   verticalalignment='center', transform=ax.transAxes)\n",
    "plt.text(2, 6, 'bbox example', bbox=dict(facecolor='pink', alpha=0.5), fontsize=18,rotation=20)\n",
    "plt.savefig(\"D:/杜鸿飞/教学/多元统计分析/pic/2.2 Python基础/2.2 图形演示_文本.jpg\",dpi=600) \n",
    "plt.show()"
   ]
  },
  {
   "cell_type": "code",
   "execution_count": 31,
   "id": "split-afternoon",
   "metadata": {},
   "outputs": [
    {
     "data": {
      "image/png": "[encoded data removed]",
      "text/plain": [
       "<Figure size 432x288 with 1 Axes>"
      ]
     },
     "metadata": {
      "needs_background": "light"
     },
     "output_type": "display_data"
    }
   ],
   "source": [
    "# 中文显示\n",
    "# 最初设置加载项\n",
    "ChinaFonts = {\"黑体\":\"simhei\",  \"宋体\":\"simsun\", \"华文楷体\":\"STKAITI\",  \"华文新魏\":\"STXINWEI\"}\n",
    "plt.rcParams[\"font.sans-serif\"] = ChinaFonts[\"华文楷体\"] # 指定文字为某种中文字体\n",
    "plt.rcParams[\"axes.unicode_minus\"] = False # 解决负号无法正常显示的问题\n",
    "plt.rcParams[\"text.usetex\"]=True           # 开 手写体公式，Latex格式，但文本内不能有中文\n",
    "\n",
    "# 准备好数据\n",
    "x = np.linspace(0,10,100); y = np.sin(x)\n",
    "\n",
    "# 绘制图形，添加标题\n",
    "plt.plot(x,y)\n",
    "plt.title(\"No Chinese words: $y=\\sin(x)$\") # 这里$y=sin(x)$是Latex格式的数学公式，用一对$ $括起来\n",
    "plt.text(2,-0.5, 'No Chinese words: $f(x) = x^3 + 2x^2 + 3x$',fontsize=18)\n",
    "\n",
    "# 所有title()和text()不能直接用中文，否则会报错；需关闭plt.rcParams[\"text.usetex\"]=True才行\n",
    "plt.rcParams[\"text.usetex\"]=False   # 关 手写体公式，Latex格式，之后中文可正常显示\n",
    "\n",
    "plt.text(3,0.5, r'环境中文字体 $f(x) = x^3 + 2x^2 + 3x}$')\n",
    "plt.text(2,0,'指定其他中文字体 $f(x) = x^3 + 2x^2 + 3x$',fontproperties='SimHei')\n",
    "plt.savefig(\"D:/杜鸿飞/教学/多元统计分析/pic/2.2 Python基础/2.2 图形演示_中文显示.jpg\",dpi=600) \n",
    "plt.show()"
   ]
  },
  {
   "cell_type": "markdown",
   "id": "optimum-conflict",
   "metadata": {},
   "source": [
    "# 常见问题"
   ]
  },
  {
   "cell_type": "code",
   "execution_count": 5,
   "id": "incoming-knitting",
   "metadata": {},
   "outputs": [
    {
     "name": "stdout",
     "output_type": "stream",
     "text": [
      "a=[1, 2, 3],  b=[1, 2, 3], c=[1, 2, 3]\n",
      "id(a)= 1972992064960，id(b)= 1972992064960，id(c)= 1973008601664\n",
      "a=[1, 9, 3],  b=[1, 9, 3], c=[1, 2, 3]\n"
     ]
    }
   ],
   "source": [
    "# 变量与地址\n",
    "a = [1, 2, 3];  b = a; c = a.copy()\t\t# 直接等号赋值，地址相同\n",
    "print(\"a={},  b={}, c={}\".format(a,b,c))\n",
    "print(\"id(a)= {}，id(b)= {}，id(c)= {}\".format(id(a), id(b), id(c)))\n",
    "b[1] = 9     # 改变 b 会导致 a 跟随变化\n",
    "print(\"a={},  b={}, c={}\".format(a,b,c))"
   ]
  },
  {
   "cell_type": "code",
   "execution_count": 23,
   "id": "quality-shanghai",
   "metadata": {},
   "outputs": [
    {
     "name": "stderr",
     "output_type": "stream",
     "text": [
      "C:\\Users\\zlq17\\AppData\\Local\\Temp\\ipykernel_15884\\758014884.py:5: UserWarning: Glyph 20013 (\\N{CJK UNIFIED IDEOGRAPH-4E2D}) missing from current font.\n",
      "  plt.savefig(\"C:/code/python/multifed_stas/图形演示_中文乱码.jpg\",dpi=600)\n",
      "C:\\Users\\zlq17\\AppData\\Local\\Temp\\ipykernel_15884\\758014884.py:5: UserWarning: Glyph 25991 (\\N{CJK UNIFIED IDEOGRAPH-6587}) missing from current font.\n",
      "  plt.savefig(\"C:/code/python/multifed_stas/图形演示_中文乱码.jpg\",dpi=600)\n",
      "C:\\Users\\zlq17\\AppData\\Local\\Temp\\ipykernel_15884\\758014884.py:5: UserWarning: Glyph 26631 (\\N{CJK UNIFIED IDEOGRAPH-6807}) missing from current font.\n",
      "  plt.savefig(\"C:/code/python/multifed_stas/图形演示_中文乱码.jpg\",dpi=600)\n",
      "C:\\Users\\zlq17\\AppData\\Local\\Temp\\ipykernel_15884\\758014884.py:5: UserWarning: Glyph 39064 (\\N{CJK UNIFIED IDEOGRAPH-9898}) missing from current font.\n",
      "  plt.savefig(\"C:/code/python/multifed_stas/图形演示_中文乱码.jpg\",dpi=600)\n"
     ]
    },
    {
     "data": {
      "image/png": "[encoded data removed]",
      "text/plain": [
       "<Figure size 432x288 with 1 Axes>"
      ]
     },
     "metadata": {
      "needs_background": "light"
     },
     "output_type": "display_data"
    }
   ],
   "source": [
    "# 图形的中文出现乱码\n",
    "import matplotlib.pyplot as plt\n",
    "plt.plot(range(10))\n",
    "plt.title(\"中文标题\")\n",
    "plt.savefig(\"C:/code/python/multifed_stas/图形演示_中文乱码.jpg\",dpi=600) \n",
    "plt.show()"
   ]
  },
  {
   "cell_type": "code",
   "execution_count": 25,
   "id": "convinced-charge",
   "metadata": {},
   "outputs": [
    {
     "data": {
      "image/png": "[encoded data removed]",
      "text/plain": [
       "<Figure size 432x288 with 1 Axes>"
      ]
     },
     "metadata": {
      "needs_background": "light"
     },
     "output_type": "display_data"
    }
   ],
   "source": [
    "# 解决中文乱码问题\n",
    "ChinaFonts = {\"黑体\":\"simhei\",\n",
    "             \"宋体\":\"simsun\",\n",
    "             \"华文彩云\":\"STCAIYUN\",\n",
    "             \"华文琥珀\":\"STHUPO\",\n",
    "             \"华文楷体\":\"STKAITI\",\n",
    "             \"华文隶书\":\"STLITI\",\n",
    "             \"华文宋体\":\"STSONG\",\n",
    "             \"华文细黑\":\"STXIHEI\",\n",
    "             \"华文新魏\":\"STXINWEI\"}\n",
    "plt.rc('font', family=ChinaFonts[\"华文宋体\"])\n",
    "plt.rc('axes', unicode_minus=False) #解决负号无法正常显示的问题(明显偏大)\n",
    "plt.plot(range(10))\n",
    "plt.title(\"中文标题\")\n",
    "plt.savefig(\"C:/code/python/multifed_stas/图形演示_中文乱码.jpg\",dpi=600) \n",
    "plt.show()"
   ]
  },
  {
   "cell_type": "code",
   "execution_count": null,
   "id": "accepting-spyware",
   "metadata": {},
   "outputs": [],
   "source": []
  },
  {
   "cell_type": "code",
   "execution_count": null,
   "id": "informal-signal",
   "metadata": {},
   "outputs": [],
   "source": []
  },
  {
   "cell_type": "code",
   "execution_count": null,
   "id": "premier-thesis",
   "metadata": {},
   "outputs": [],
   "source": []
  },
  {
   "cell_type": "code",
   "execution_count": null,
   "id": "recovered-banks",
   "metadata": {},
   "outputs": [],
   "source": []
  }
 ],
 "metadata": {
  "kernelspec": {
   "display_name": "Python 3 (ipykernel)",
   "language": "python",
   "name": "python3"
  },
  "language_info": {
   "codemirror_mode": {
    "name": "ipython",
    "version": 3
   },
   "file_extension": ".py",
   "mimetype": "text/x-python",
   "name": "python",
   "nbconvert_exporter": "python",
   "pygments_lexer": "ipython3",
   "version": "3.9.7"
  },
  "toc": {
   "base_numbering": 1,
   "nav_menu": {},
   "number_sections": true,
   "sideBar": true,
   "skip_h1_title": false,
   "title_cell": "Table of Contents",
   "title_sidebar": "Contents",
   "toc_cell": false,
   "toc_position": {
    "height": "calc(100% - 180px)",
    "left": "10px",
    "top": "150px",
    "width": "238.333px"
   },
   "toc_section_display": true,
   "toc_window_display": true
  },
  "vscode": {
   "interpreter": {
    "hash": "b9a09f7fa200f897ff5b8acf5c715e5f6840094067032d1c09b5e072f266e1d5"
   }
  }
 },
 "nbformat": 4,
 "nbformat_minor": 5
}
