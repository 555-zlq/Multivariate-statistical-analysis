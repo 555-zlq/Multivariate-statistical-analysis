{
 "cells": [
  {
   "cell_type": "markdown",
   "id": "8bee813f-f551-44e4-a387-420bbf96aa36",
   "metadata": {},
   "source": [
    "# 文件读取及绘图\n",
    "\n"
   ]
  },
  {
   "cell_type": "code",
   "execution_count": 1,
   "id": "2b245311-4131-4241-b069-bcaac553c7e9",
   "metadata": {},
   "outputs": [],
   "source": [
    "import numpy as np\n",
    "import matplotlib.pyplot as plt\n",
    "import pandas as pd\n",
    "import xlwt  # 保存为xls文件，需要先安装 xlwt 包"
   ]
  },
  {
   "cell_type": "markdown",
   "id": "ee5355e2-08bf-4a1e-8da9-6943e6038468",
   "metadata": {},
   "source": [
    "## 读入txt数据"
   ]
  },
  {
   "cell_type": "code",
   "execution_count": 3,
   "id": "fc592502-2137-43fa-8d42-1d516e0bc30f",
   "metadata": {},
   "outputs": [],
   "source": [
    "\n",
    "s_file = \"C:/code/python/multifed_stas/database/SH#600000.txt\"\n",
    "df_Ex0 = pd.read_csv(s_file, encoding=\"gbk\", skiprows=2, names=[\n",
    "                     \"开盘\", \"最高\", \"最低\", \"收盘\", \"成交量\", \"成交额\"], index_col=0, skipfooter=1, engine='python')\n",
    "df_Ex0.index = pd.to_datetime(df_Ex0.index)\n"
   ]
  },
  {
   "cell_type": "markdown",
   "id": "987218f3-9892-4c50-89d2-665493d2b757",
   "metadata": {},
   "source": [
    "## 存为csv文件\n"
   ]
  },
  {
   "cell_type": "code",
   "execution_count": 5,
   "id": "86c0442c-b804-4bdb-bab6-710905892178",
   "metadata": {},
   "outputs": [
    {
     "data": {
      "text/html": [
       "<div>\n",
       "<style scoped>\n",
       "    .dataframe tbody tr th:only-of-type {\n",
       "        vertical-align: middle;\n",
       "    }\n",
       "\n",
       "    .dataframe tbody tr th {\n",
       "        vertical-align: top;\n",
       "    }\n",
       "\n",
       "    .dataframe thead th {\n",
       "        text-align: right;\n",
       "    }\n",
       "</style>\n",
       "<table border=\"1\" class=\"dataframe\">\n",
       "  <thead>\n",
       "    <tr style=\"text-align: right;\">\n",
       "      <th></th>\n",
       "      <th>开盘</th>\n",
       "      <th>最高</th>\n",
       "      <th>最低</th>\n",
       "      <th>收盘</th>\n",
       "      <th>成交量</th>\n",
       "      <th>成交额</th>\n",
       "    </tr>\n",
       "  </thead>\n",
       "  <tbody>\n",
       "    <tr>\n",
       "      <th>2000-01-04</th>\n",
       "      <td>24.98</td>\n",
       "      <td>25.78</td>\n",
       "      <td>24.75</td>\n",
       "      <td>25.57</td>\n",
       "      <td>4496000</td>\n",
       "      <td>113946784.0</td>\n",
       "    </tr>\n",
       "    <tr>\n",
       "      <th>2000-01-05</th>\n",
       "      <td>25.57</td>\n",
       "      <td>25.98</td>\n",
       "      <td>25.15</td>\n",
       "      <td>25.28</td>\n",
       "      <td>5252800</td>\n",
       "      <td>134465424.0</td>\n",
       "    </tr>\n",
       "    <tr>\n",
       "      <th>2000-01-06</th>\n",
       "      <td>25.18</td>\n",
       "      <td>26.30</td>\n",
       "      <td>25.05</td>\n",
       "      <td>25.99</td>\n",
       "      <td>6229600</td>\n",
       "      <td>160059792.0</td>\n",
       "    </tr>\n",
       "    <tr>\n",
       "      <th>2000-01-07</th>\n",
       "      <td>26.30</td>\n",
       "      <td>27.50</td>\n",
       "      <td>26.12</td>\n",
       "      <td>26.90</td>\n",
       "      <td>21355300</td>\n",
       "      <td>575751104.0</td>\n",
       "    </tr>\n",
       "    <tr>\n",
       "      <th>2000-01-10</th>\n",
       "      <td>27.00</td>\n",
       "      <td>27.85</td>\n",
       "      <td>26.71</td>\n",
       "      <td>27.25</td>\n",
       "      <td>16539700</td>\n",
       "      <td>450453504.0</td>\n",
       "    </tr>\n",
       "    <tr>\n",
       "      <th>...</th>\n",
       "      <td>...</td>\n",
       "      <td>...</td>\n",
       "      <td>...</td>\n",
       "      <td>...</td>\n",
       "      <td>...</td>\n",
       "      <td>...</td>\n",
       "    </tr>\n",
       "    <tr>\n",
       "      <th>2022-05-16</th>\n",
       "      <td>8.05</td>\n",
       "      <td>8.07</td>\n",
       "      <td>7.93</td>\n",
       "      <td>7.97</td>\n",
       "      <td>20990826</td>\n",
       "      <td>167326400.0</td>\n",
       "    </tr>\n",
       "    <tr>\n",
       "      <th>2022-05-17</th>\n",
       "      <td>8.01</td>\n",
       "      <td>8.04</td>\n",
       "      <td>7.95</td>\n",
       "      <td>8.02</td>\n",
       "      <td>18714191</td>\n",
       "      <td>149733536.0</td>\n",
       "    </tr>\n",
       "    <tr>\n",
       "      <th>2022-05-18</th>\n",
       "      <td>7.98</td>\n",
       "      <td>8.01</td>\n",
       "      <td>7.92</td>\n",
       "      <td>7.95</td>\n",
       "      <td>19463913</td>\n",
       "      <td>154781984.0</td>\n",
       "    </tr>\n",
       "    <tr>\n",
       "      <th>2022-05-19</th>\n",
       "      <td>7.92</td>\n",
       "      <td>7.98</td>\n",
       "      <td>7.89</td>\n",
       "      <td>7.91</td>\n",
       "      <td>19904191</td>\n",
       "      <td>157705904.0</td>\n",
       "    </tr>\n",
       "    <tr>\n",
       "      <th>2022-05-20</th>\n",
       "      <td>7.94</td>\n",
       "      <td>8.05</td>\n",
       "      <td>7.92</td>\n",
       "      <td>8.04</td>\n",
       "      <td>32699572</td>\n",
       "      <td>262095152.0</td>\n",
       "    </tr>\n",
       "  </tbody>\n",
       "</table>\n",
       "<p>5302 rows × 6 columns</p>\n",
       "</div>"
      ],
      "text/plain": [
       "               开盘     最高     最低     收盘       成交量          成交额\n",
       "2000-01-04  24.98  25.78  24.75  25.57   4496000  113946784.0\n",
       "2000-01-05  25.57  25.98  25.15  25.28   5252800  134465424.0\n",
       "2000-01-06  25.18  26.30  25.05  25.99   6229600  160059792.0\n",
       "2000-01-07  26.30  27.50  26.12  26.90  21355300  575751104.0\n",
       "2000-01-10  27.00  27.85  26.71  27.25  16539700  450453504.0\n",
       "...           ...    ...    ...    ...       ...          ...\n",
       "2022-05-16   8.05   8.07   7.93   7.97  20990826  167326400.0\n",
       "2022-05-17   8.01   8.04   7.95   8.02  18714191  149733536.0\n",
       "2022-05-18   7.98   8.01   7.92   7.95  19463913  154781984.0\n",
       "2022-05-19   7.92   7.98   7.89   7.91  19904191  157705904.0\n",
       "2022-05-20   7.94   8.05   7.92   8.04  32699572  262095152.0\n",
       "\n",
       "[5302 rows x 6 columns]"
      ]
     },
     "execution_count": 5,
     "metadata": {},
     "output_type": "execute_result"
    }
   ],
   "source": [
    "df_s_file = \"C:/code/python/multifed_stas/database/SH#60000.csv\"\n",
    "df_Ex0.to_csv(df_s_file, encoding=\"gbk\", sep=\",\")\n",
    "df_Ex0"
   ]
  },
  {
   "cell_type": "markdown",
   "id": "66e9e846-5ab0-471b-94c6-89c2c4e49e1b",
   "metadata": {},
   "source": [
    "## 读入 txt文件\n"
   ]
  },
  {
   "cell_type": "code",
   "execution_count": 6,
   "id": "68fb3dc9-28ba-463d-957a-3f3e1a45b44c",
   "metadata": {},
   "outputs": [],
   "source": [
    "t_file = \"database/上证50代码列表.xlsx\"\n",
    "df_Ex1 = pd.read_excel(t_file, dtype=str)\n",
    "df_Ex1 = df_Ex1.applymap(lambda x: str(x).strip())  # 剔除单元格中的空格字符"
   ]
  },
  {
   "cell_type": "markdown",
   "id": "a494649d-4388-4b0a-b8f7-ff678d762de8",
   "metadata": {},
   "source": [
    "## 存入txt文件\n"
   ]
  },
  {
   "cell_type": "code",
   "execution_count": 9,
   "id": "b110a090-eea5-4076-860e-37b399622cf3",
   "metadata": {},
   "outputs": [
    {
     "name": "stderr",
     "output_type": "stream",
     "text": [
      "C:\\Users\\zlq17\\AppData\\Local\\Temp\\ipykernel_10640\\3690380434.py:2: FutureWarning: As the xlwt package is no longer maintained, the xlwt engine will be removed in a future version of pandas. This is the only engine in pandas that supports writing in the xls format. Install openpyxl and write to an xlsx file instead. You can set the option io.excel.xls.writer to 'xlwt' to silence this warning. While this option is deprecated and will also raise a warning, it can be globally set and the warning suppressed.\n",
      "  df_Ex1.to_excel(df1_s_file)\n"
     ]
    }
   ],
   "source": [
    "df1_s_file = \"database/test.xls\"\n",
    "df_Ex1.to_excel(df1_s_file)\n",
    "# df_Ex1"
   ]
  },
  {
   "cell_type": "code",
   "execution_count": null,
   "id": "30198c75-b1b2-4a6f-847a-a95d956b383e",
   "metadata": {},
   "outputs": [],
   "source": []
  }
 ],
 "metadata": {
  "kernelspec": {
   "display_name": "Python 3 (ipykernel)",
   "language": "python",
   "name": "python3"
  },
  "language_info": {
   "codemirror_mode": {
    "name": "ipython",
    "version": 3
   },
   "file_extension": ".py",
   "mimetype": "text/x-python",
   "name": "python",
   "nbconvert_exporter": "python",
   "pygments_lexer": "ipython3",
   "version": "3.9.7"
  },
  "vscode": {
   "interpreter": {
    "hash": "b9a09f7fa200f897ff5b8acf5c715e5f6840094067032d1c09b5e072f266e1d5"
   }
  }
 },
 "nbformat": 4,
 "nbformat_minor": 5
}
